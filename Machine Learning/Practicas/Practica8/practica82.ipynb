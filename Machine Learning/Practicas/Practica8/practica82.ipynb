{
 "cells": [
  {
   "cell_type": "code",
   "execution_count": 1,
   "metadata": {},
   "outputs": [],
   "source": [
    "#importamos las librerias necesarias\n",
    "import tensorflow as tf#libreria de google para el manejo de redes neuronales\n",
    "import numpy as np  #libreria para el manejo de arreglos"
   ]
  },
  {
   "cell_type": "code",
   "execution_count": 2,
   "metadata": {},
   "outputs": [],
   "source": [
    "#Damos los datos de entrada y salida para el modelo\n",
    "celsius = np.array([ 0, -6.66667 , -9.44444 , 10 , 18.3333 , 22.2222 , -15, 29.4444, 37.7778, -17.7778 ], dtype=float)#creamos un array con los valores de celsius\n",
    "fahrenheit = np.array([32, 20, 15, 50, 65, 72, 5, 85, 100, 0], dtype=float)#creamos un array con los valores de fahrenheit"
   ]
  },
  {
   "cell_type": "code",
   "execution_count": 3,
   "metadata": {},
   "outputs": [],
   "source": [
    "oculta1 = tf.keras.layers.Dense(units=3, input_shape=[1])#creamos la capa oculta con 3 neuronas\n",
    "oculta2 = tf.keras.layers.Dense(units=3)#creamos la capa oculta con 3 neuronas\n",
    "salida = tf.keras.layers.Dense(units=1)#creamos la capa de salida con 1 neurona\n",
    "modelo = tf.keras.Sequential([oculta1, oculta2, salida])#creamos el modelo con las capas creadas"
   ]
  },
  {
   "cell_type": "code",
   "execution_count": 4,
   "metadata": {},
   "outputs": [],
   "source": [
    "modelo.compile(\n",
    "    optimizer=tf.keras.optimizers.Adam(0.1),\n",
    "    loss='mean_squared_error'\n",
    ")"
   ]
  },
  {
   "cell_type": "code",
   "execution_count": 5,
   "metadata": {},
   "outputs": [
    {
     "name": "stdout",
     "output_type": "stream",
     "text": [
      "Comenzando entrenamiento...\n",
      "Modelo entrenado!\n"
     ]
    }
   ],
   "source": [
    "print(\"Comenzando entrenamiento...\")\n",
    "historial = modelo.fit(celsius, fahrenheit, epochs=1000, verbose=False)\n",
    "print(\"Modelo entrenado!\")"
   ]
  },
  {
   "cell_type": "code",
   "execution_count": 6,
   "metadata": {},
   "outputs": [
    {
     "data": {
      "text/plain": [
       "[<matplotlib.lines.Line2D at 0x2a889ff4350>]"
      ]
     },
     "execution_count": 6,
     "metadata": {},
     "output_type": "execute_result"
    },
    {
     "data": {
      "image/png": "[encoded data removed]",
      "text/plain": [
       "<Figure size 640x480 with 1 Axes>"
      ]
     },
     "metadata": {},
     "output_type": "display_data"
    }
   ],
   "source": [
    "import matplotlib.pyplot as plt\n",
    "plt.xlabel(\"# Epoca\")   \n",
    "plt.ylabel(\"Magnitud de pérdida\")\n",
    "plt.plot(historial.history[\"loss\"])"
   ]
  },
  {
   "cell_type": "code",
   "execution_count": 7,
   "metadata": {},
   "outputs": [
    {
     "name": "stdout",
     "output_type": "stream",
     "text": [
      "Hagamos una predicción!\n",
      "1/1 [==============================] - 0s 110ms/step\n",
      "El resultado es [[212.00012]] fahrenheit!\n"
     ]
    }
   ],
   "source": [
    "print(\"Hagamos una predicción!\")\n",
    "resultado = modelo.predict([100.0])\n",
    "print(\"El resultado es \" + str(resultado) + \" fahrenheit!\")"
   ]
  },
  {
   "cell_type": "code",
   "execution_count": 8,
   "metadata": {},
   "outputs": [
    {
     "name": "stdout",
     "output_type": "stream",
     "text": [
      "Variables internas del modelo\n",
      "[array([[-0.4255867 , -0.86832386, -0.30832207]], dtype=float32), array([-3.9960065, -3.9283972,  2.667482 ], dtype=float32)]\n",
      "[array([[ 1.4494603 ,  1.485519  , -0.06496971],\n",
      "       [-0.4568888 ,  1.1348598 ,  0.15348752],\n",
      "       [-1.0939221 , -0.7372285 ,  0.09924965]], dtype=float32), array([-2.1596828, -3.9438455, -3.0657508], dtype=float32)]\n",
      "[array([[-0.6381265 ],\n",
      "       [-1.3155097 ],\n",
      "       [-0.33579305]], dtype=float32), array([3.7042174], dtype=float32)]\n"
     ]
    }
   ],
   "source": [
    "print(\"Variables internas del modelo\")\n",
    "print(oculta1.get_weights())\n",
    "print(oculta2.get_weights())\n",
    "print(salida.get_weights())"
   ]
  }
 ],
 "metadata": {
  "kernelspec": {
   "display_name": "Python 3",
   "language": "python",
   "name": "python3"
  },
  "language_info": {
   "codemirror_mode": {
    "name": "ipython",
    "version": 3
   },
   "file_extension": ".py",
   "mimetype": "text/x-python",
   "name": "python",
   "nbconvert_exporter": "python",
   "pygments_lexer": "ipython3",
   "version": "3.11.3"
  }
 },
 "nbformat": 4,
 "nbformat_minor": 2
}
